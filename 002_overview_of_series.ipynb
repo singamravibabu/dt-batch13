{
 "cells": [
  {
   "cell_type": "code",
   "execution_count": 1,
   "id": "54701ea9",
   "metadata": {},
   "outputs": [],
   "source": [
    "import numpy as np\n",
    "import pandas as pd"
   ]
  },
  {
   "cell_type": "code",
   "execution_count": 2,
   "id": "bb3d6834",
   "metadata": {},
   "outputs": [
    {
     "data": {
      "text/plain": [
       "Series([], dtype: object)"
      ]
     },
     "execution_count": 2,
     "metadata": {},
     "output_type": "execute_result"
    }
   ],
   "source": [
    "pd.Series()"
   ]
  },
  {
   "cell_type": "code",
   "execution_count": 3,
   "id": "ab300647",
   "metadata": {},
   "outputs": [
    {
     "data": {
      "text/plain": [
       "0    1\n",
       "1    2\n",
       "2    3\n",
       "3    4\n",
       "4    5\n",
       "dtype: int64"
      ]
     },
     "execution_count": 3,
     "metadata": {},
     "output_type": "execute_result"
    }
   ],
   "source": [
    "pd.Series([1, 2, 3, 4, 5])"
   ]
  },
  {
   "cell_type": "code",
   "execution_count": 4,
   "id": "426443e4",
   "metadata": {},
   "outputs": [
    {
     "data": {
      "text/plain": [
       "0    1\n",
       "1    2\n",
       "2    3\n",
       "3    4\n",
       "4    5\n",
       "dtype: int64"
      ]
     },
     "execution_count": 4,
     "metadata": {},
     "output_type": "execute_result"
    }
   ],
   "source": [
    "pd.Series(data=[1, 2, 3, 4, 5])"
   ]
  },
  {
   "cell_type": "code",
   "execution_count": 7,
   "id": "543f00fe",
   "metadata": {},
   "outputs": [
    {
     "data": {
      "text/plain": [
       "0     Chocolate\n",
       "1       Vanilla\n",
       "2    Strawberry\n",
       "3    Rum Raisin\n",
       "dtype: object"
      ]
     },
     "execution_count": 7,
     "metadata": {},
     "output_type": "execute_result"
    }
   ],
   "source": [
    "ice_cream_flavors = [\n",
    "    \"Chocolate\",\n",
    "    \"Vanilla\",\n",
    "    \"Strawberry\",\n",
    "    \"Rum Raisin\",\n",
    "]\n",
    "pd.Series(ice_cream_flavors)\n",
    "pd.Series(data=ice_cream_flavors) # same as above statement"
   ]
  },
  {
   "cell_type": "code",
   "execution_count": 9,
   "id": "81141ddf",
   "metadata": {},
   "outputs": [
    {
     "data": {
      "text/plain": [
       "Monday        Chocolate\n",
       "Wednesday       Vanilla\n",
       "Friday       Strawberry\n",
       "Saturday     Rum Raisin\n",
       "dtype: object"
      ]
     },
     "execution_count": 9,
     "metadata": {},
     "output_type": "execute_result"
    }
   ],
   "source": [
    "ice_cream_flavors = [\n",
    "    \"Chocolate\",\n",
    "    \"Vanilla\",\n",
    "    \"Strawberry\",\n",
    "    \"Rum Raisin\",\n",
    "]\n",
    "days_of_week = [\"Monday\", \"Wednesday\", \"Friday\", \"Saturday\"]\n",
    "pd.Series(ice_cream_flavors, days_of_week)\n",
    "pd.Series(data=ice_cream_flavors, index=days_of_week) # same as above statement"
   ]
  },
  {
   "cell_type": "code",
   "execution_count": 10,
   "id": "feb1b194",
   "metadata": {},
   "outputs": [
    {
     "data": {
      "text/plain": [
       "Monday        Chocolate\n",
       "Wednesday       Vanilla\n",
       "Friday       Strawberry\n",
       "Wednesday    Rum Raisin\n",
       "dtype: object"
      ]
     },
     "execution_count": 10,
     "metadata": {},
     "output_type": "execute_result"
    }
   ],
   "source": [
    "ice_cream_flavors = [\n",
    "    \"Chocolate\",\n",
    "    \"Vanilla\",\n",
    "    \"Strawberry\",\n",
    "    \"Rum Raisin\",\n",
    "]\n",
    "days_of_week = [\"Monday\", \"Wednesday\", \"Friday\", \"Wednesday\"]\n",
    "pd.Series(ice_cream_flavors, days_of_week)\n",
    "pd.Series(data=ice_cream_flavors, index=days_of_week) # same as above statement"
   ]
  },
  {
   "cell_type": "code",
   "execution_count": 11,
   "id": "631ddc6e",
   "metadata": {},
   "outputs": [
    {
     "data": {
      "text/plain": [
       "0     True\n",
       "1    False\n",
       "2    False\n",
       "dtype: bool"
      ]
     },
     "execution_count": 11,
     "metadata": {},
     "output_type": "execute_result"
    }
   ],
   "source": [
    "bunch_of_bools = [True, False, False]\n",
    "pd.Series(bunch_of_bools)"
   ]
  },
  {
   "cell_type": "code",
   "execution_count": 12,
   "id": "1f8abd2d",
   "metadata": {},
   "outputs": [
    {
     "data": {
      "text/plain": [
       "Open     123.45\n",
       "Close    140.20\n",
       "dtype: float64"
      ]
     },
     "execution_count": 12,
     "metadata": {},
     "output_type": "execute_result"
    }
   ],
   "source": [
    "stock_prices = [123.45, 140.20]\n",
    "time_of_day = [\"Open\", \"Close\"]\n",
    "pd.Series(stock_prices, time_of_day)\n",
    "pd.Series(data=stock_prices, index=time_of_day) # same as above statement"
   ]
  },
  {
   "cell_type": "code",
   "execution_count": 13,
   "id": "60c61297",
   "metadata": {},
   "outputs": [
    {
     "data": {
      "text/plain": [
       "0    10\n",
       "1    18\n",
       "2    24\n",
       "3    36\n",
       "4    38\n",
       "5    40\n",
       "6    51\n",
       "dtype: int64"
      ]
     },
     "execution_count": 13,
     "metadata": {},
     "output_type": "execute_result"
    }
   ],
   "source": [
    "random_numbers = [10, 18, 24, 36, 38, 40, 51]\n",
    "pd.Series(random_numbers)"
   ]
  },
  {
   "cell_type": "code",
   "execution_count": 14,
   "id": "84fec18c",
   "metadata": {},
   "outputs": [
    {
     "data": {
      "text/plain": [
       "0    10.0\n",
       "1    18.0\n",
       "2    24.0\n",
       "3    36.0\n",
       "4    38.0\n",
       "5    40.0\n",
       "6    51.0\n",
       "dtype: float64"
      ]
     },
     "execution_count": 14,
     "metadata": {},
     "output_type": "execute_result"
    }
   ],
   "source": [
    "random_numbers = [10, 18, 24, 36, 38, 40, 51]\n",
    "pd.Series(random_numbers, dtype=np.float64)"
   ]
  },
  {
   "cell_type": "code",
   "execution_count": 15,
   "id": "eff81400",
   "metadata": {},
   "outputs": [
    {
     "data": {
      "text/plain": [
       "0    30.5\n",
       "1    32.0\n",
       "2     NaN\n",
       "3    31.2\n",
       "dtype: float64"
      ]
     },
     "execution_count": 15,
     "metadata": {},
     "output_type": "execute_result"
    }
   ],
   "source": [
    "temperatures = [30.5, 32.0, np.nan, 31.2]\n",
    "pd.Series(temperatures)\n",
    "pd.Series(data=temperatures, dtype=np.float64)"
   ]
  },
  {
   "cell_type": "code",
   "execution_count": 16,
   "id": "f7a30b91",
   "metadata": {},
   "outputs": [
    {
     "data": {
      "text/plain": [
       "biryani    1000\n",
       "pizza       800\n",
       "burger      500\n",
       "pasta       600\n",
       "dtype: int64"
      ]
     },
     "execution_count": 16,
     "metadata": {},
     "output_type": "execute_result"
    }
   ],
   "source": [
    "food_items = {\n",
    "    \"biryani\": 1000,\n",
    "    \"pizza\": 800,\n",
    "    \"burger\": 500,\n",
    "    \"pasta\": 600,\n",
    "}\n",
    "pd.Series(food_items)"
   ]
  },
  {
   "cell_type": "code",
   "execution_count": 18,
   "id": "bc9f5666",
   "metadata": {},
   "outputs": [
    {
     "data": {
      "text/plain": [
       "biryani    1000\n",
       "pizza       800\n",
       "burger      500\n",
       "pasta       600\n",
       "dtype: int64"
      ]
     },
     "execution_count": 18,
     "metadata": {},
     "output_type": "execute_result"
    }
   ],
   "source": [
    "calories = {\n",
    "    \"biryani\": 1000,\n",
    "    \"pizza\": 800,\n",
    "    \"burger\": 500,\n",
    "    \"pasta\": 600,\n",
    "}\n",
    "diet = pd.Series(calories)\n",
    "diet"
   ]
  },
  {
   "cell_type": "code",
   "execution_count": 19,
   "id": "e04ba8b8",
   "metadata": {},
   "outputs": [
    {
     "data": {
      "text/plain": [
       "array([1000,  800,  500,  600])"
      ]
     },
     "execution_count": 19,
     "metadata": {},
     "output_type": "execute_result"
    }
   ],
   "source": [
    "diet.values"
   ]
  },
  {
   "cell_type": "code",
   "execution_count": 20,
   "id": "945d5ef7",
   "metadata": {},
   "outputs": [
    {
     "data": {
      "text/plain": [
       "Index(['biryani', 'pizza', 'burger', 'pasta'], dtype='object')"
      ]
     },
     "execution_count": 20,
     "metadata": {},
     "output_type": "execute_result"
    }
   ],
   "source": [
    "diet.index"
   ]
  },
  {
   "cell_type": "code",
   "execution_count": 21,
   "id": "5705186c",
   "metadata": {},
   "outputs": [
    {
     "data": {
      "text/plain": [
       "4"
      ]
     },
     "execution_count": 21,
     "metadata": {},
     "output_type": "execute_result"
    }
   ],
   "source": [
    "diet.size"
   ]
  },
  {
   "cell_type": "code",
   "execution_count": 22,
   "id": "c87c12ca",
   "metadata": {},
   "outputs": [
    {
     "data": {
      "text/plain": [
       "(4,)"
      ]
     },
     "execution_count": 22,
     "metadata": {},
     "output_type": "execute_result"
    }
   ],
   "source": [
    "diet.shape"
   ]
  },
  {
   "cell_type": "code",
   "execution_count": 23,
   "id": "41bffb57",
   "metadata": {},
   "outputs": [
    {
     "data": {
      "text/plain": [
       "dtype('int64')"
      ]
     },
     "execution_count": 23,
     "metadata": {},
     "output_type": "execute_result"
    }
   ],
   "source": [
    "diet.dtype"
   ]
  },
  {
   "cell_type": "code",
   "execution_count": 24,
   "id": "b3973922",
   "metadata": {},
   "outputs": [
    {
     "data": {
      "text/plain": [
       "True"
      ]
     },
     "execution_count": 24,
     "metadata": {},
     "output_type": "execute_result"
    }
   ],
   "source": [
    "diet.is_unique"
   ]
  }
 ],
 "metadata": {
  "kernelspec": {
   "display_name": "venv",
   "language": "python",
   "name": "python3"
  },
  "language_info": {
   "codemirror_mode": {
    "name": "ipython",
    "version": 3
   },
   "file_extension": ".py",
   "mimetype": "text/x-python",
   "name": "python",
   "nbconvert_exporter": "python",
   "pygments_lexer": "ipython3",
   "version": "3.10.11"
  }
 },
 "nbformat": 4,
 "nbformat_minor": 5
}
